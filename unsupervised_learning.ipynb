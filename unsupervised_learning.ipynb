{
 "cells": [
  {
   "cell_type": "code",
   "execution_count": null,
   "metadata": {},
   "outputs": [],
   "source": [
    "import pandas as pd\n",
    "import numpy as np\n",
    "from sklearn.preprocessing import OneHotEncoder\n",
    "from sklearn.compose import ColumnTransformer\n",
    "from sklearn.pipeline import Pipeline\n",
    "from sklearn.cluster import KMeans, AgglomerativeClustering, MeanShift\n",
    "from sklearn.mixture import GaussianMixture\n",
    "from sklearn.cluster import DBSCAN\n",
    "\n",
    "# Assume you have a DataFrame 'model_data' with the specified features\n",
    "\n",
    "# Separate features from the DataFrame\n",
    "X = model_data[[\"Age\", \"Gender\", \"Years of Experience\", \"Education Level\", \"Job Title\"]]\n",
    "\n",
    "# Preprocessing for categorical data (One-hot encoding)\n",
    "categorical_cols = [\"Gender\", \"Education Level\", \"Job Title\"]\n",
    "categorical_transformer = OneHotEncoder(handle_unknown=\"ignore\")\n",
    "\n",
    "# Bundle preprocessing for numerical and categorical data\n",
    "preprocessor = ColumnTransformer(\n",
    "    transformers=[\n",
    "        (\"cat\", categorical_transformer, categorical_cols),\n",
    "    ],\n",
    "    remainder=\"passthrough\"\n",
    ")\n",
    "\n",
    "# Apply preprocessing to the features\n",
    "X_transformed = preprocessor.fit_transform(X)\n",
    "\n",
    "# Define clustering models\n",
    "models = [\n",
    "    (\"K-Means\", KMeans(n_clusters=5, random_state=42)),\n",
    "    (\"Agglomerative Clustering\", AgglomerativeClustering(n_clusters=5)),\n",
    "    (\"Mean Shift\", MeanShift()),\n",
    "    (\"Gaussian Mixture\", GaussianMixture(n_components=5, random_state=42)),\n",
    "]\n",
    "\n",
    "# DBSCAN doesn't have a direct 'predict' method; use the 'fit_predict' method\n",
    "dbscan_model = DBSCAN(eps=1.0, min_samples=5)\n",
    "dbscan_cluster_labels = dbscan_model.fit_predict(X_transformed)\n",
    "model_data[\"DBSCAN Cluster\"] = dbscan_cluster_labels\n",
    "\n",
    "# Print the number of samples in each cluster (for K-Means as an example)\n",
    "print(\"Number of samples in each K-Means cluster:\")\n",
    "print(model_data[\"K-Means Cluster\"].value_counts())\n"
   ]
  }
 ],
 "metadata": {
  "language_info": {
   "name": "python"
  }
 },
 "nbformat": 4,
 "nbformat_minor": 5
}
