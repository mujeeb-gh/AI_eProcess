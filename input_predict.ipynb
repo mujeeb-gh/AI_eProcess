{
 "cells": [
  {
   "cell_type": "code",
   "execution_count": 52,
   "metadata": {},
   "outputs": [
    {
     "data": {
      "text/plain": [
       "['Software Engineer',\n",
       " 'Data Analyst',\n",
       " 'Senior Manager',\n",
       " 'Sales Associate',\n",
       " 'Director',\n",
       " 'Marketing Analyst',\n",
       " 'Product Manager',\n",
       " 'Sales Manager',\n",
       " 'Marketing Coordinator',\n",
       " 'Senior Scientist',\n",
       " 'Software Developer',\n",
       " 'HR Manager',\n",
       " 'Financial Analyst',\n",
       " 'Project Manager',\n",
       " 'Customer Service Rep',\n",
       " 'Operations Manager',\n",
       " 'Marketing Manager',\n",
       " 'Senior Engineer',\n",
       " 'Data Entry Clerk',\n",
       " 'Sales Director',\n",
       " 'Business Analyst',\n",
       " 'VP of Operations',\n",
       " 'IT Support',\n",
       " 'Recruiter',\n",
       " 'Financial Manager',\n",
       " 'Social Media Specialist',\n",
       " 'Software Manager',\n",
       " 'Junior Developer',\n",
       " 'Senior Consultant',\n",
       " 'Product Designer',\n",
       " 'CEO',\n",
       " 'Accountant',\n",
       " 'Data Scientist',\n",
       " 'Marketing Specialist',\n",
       " 'Technical Writer',\n",
       " 'HR Generalist',\n",
       " 'Project Engineer',\n",
       " 'Customer Success Rep',\n",
       " 'Sales Executive',\n",
       " 'UX Designer',\n",
       " 'Operations Director',\n",
       " 'Network Engineer',\n",
       " 'Administrative Assistant',\n",
       " 'Strategy Consultant',\n",
       " 'Copywriter',\n",
       " 'Account Manager',\n",
       " 'Director of Marketing',\n",
       " 'Help Desk Analyst',\n",
       " 'Customer Service Manager',\n",
       " 'Business Intelligence Analyst',\n",
       " 'Event Coordinator',\n",
       " 'VP of Finance',\n",
       " 'Graphic Designer',\n",
       " 'UX Researcher',\n",
       " 'Social Media Manager',\n",
       " 'Director of Operations',\n",
       " 'Senior Data Scientist',\n",
       " 'Junior Accountant',\n",
       " 'Digital Marketing Manager',\n",
       " 'IT Manager',\n",
       " 'Customer Service Representative',\n",
       " 'Business Development Manager',\n",
       " 'Senior Financial Analyst',\n",
       " 'Web Developer',\n",
       " 'Research Director',\n",
       " 'Technical Support Specialist',\n",
       " 'Creative Director',\n",
       " 'Senior Software Engineer',\n",
       " 'Human Resources Director',\n",
       " 'Content Marketing Manager',\n",
       " 'Technical Recruiter',\n",
       " 'Sales Representative',\n",
       " 'Chief Technology Officer',\n",
       " 'Junior Designer',\n",
       " 'Financial Advisor',\n",
       " 'Junior Account Manager',\n",
       " 'Senior Project Manager',\n",
       " 'Principal Scientist',\n",
       " 'Supply Chain Manager',\n",
       " 'Senior Marketing Manager',\n",
       " 'Training Specialist',\n",
       " 'Research Scientist',\n",
       " 'Junior Software Developer',\n",
       " 'Public Relations Manager',\n",
       " 'Operations Analyst',\n",
       " 'Product Marketing Manager',\n",
       " 'Senior HR Manager',\n",
       " 'Junior Web Developer',\n",
       " 'Senior Project Coordinator',\n",
       " 'Chief Data Officer',\n",
       " 'Digital Content Producer',\n",
       " 'IT Support Specialist',\n",
       " 'Senior Marketing Analyst',\n",
       " 'Customer Success Manager',\n",
       " 'Senior Graphic Designer',\n",
       " 'Software Project Manager',\n",
       " 'Supply Chain Analyst',\n",
       " 'Senior Business Analyst',\n",
       " 'Junior Marketing Analyst',\n",
       " 'Office Manager',\n",
       " 'Principal Engineer',\n",
       " 'Junior HR Generalist',\n",
       " 'Senior Product Manager',\n",
       " 'Junior Operations Analyst',\n",
       " 'Senior HR Generalist',\n",
       " 'Sales Operations Manager',\n",
       " 'Senior Software Developer',\n",
       " 'Junior Web Designer',\n",
       " 'Senior Training Specialist',\n",
       " 'Senior Research Scientist',\n",
       " 'Junior Sales Representative',\n",
       " 'Junior Marketing Manager',\n",
       " 'Junior Data Analyst',\n",
       " 'Senior Product Marketing Manager',\n",
       " 'Junior Business Analyst',\n",
       " 'Senior Sales Manager',\n",
       " 'Junior Marketing Specialist',\n",
       " 'Junior Project Manager',\n",
       " 'Senior Accountant',\n",
       " 'Director of Sales',\n",
       " 'Junior Recruiter',\n",
       " 'Senior Business Development Manager',\n",
       " 'Senior Product Designer',\n",
       " 'Junior Customer Support Specialist',\n",
       " 'Senior IT Support Specialist',\n",
       " 'Junior Financial Analyst',\n",
       " 'Senior Operations Manager',\n",
       " 'Director of Human Resources',\n",
       " 'Junior Software Engineer',\n",
       " 'Senior Sales Representative',\n",
       " 'Director of Product Management',\n",
       " 'Junior Copywriter',\n",
       " 'Senior Marketing Coordinator',\n",
       " 'Senior Human Resources Manager',\n",
       " 'Junior Business Development Associate',\n",
       " 'Senior Account Manager',\n",
       " 'Senior Researcher',\n",
       " 'Junior HR Coordinator',\n",
       " 'Director of Finance',\n",
       " 'Junior Marketing Coordinator',\n",
       " 'Junior Data Scientist',\n",
       " 'Senior Operations Analyst',\n",
       " 'Senior Human Resources Coordinator',\n",
       " 'Senior UX Designer',\n",
       " 'Junior Product Manager',\n",
       " 'Senior Marketing Specialist',\n",
       " 'Senior IT Project Manager',\n",
       " 'Senior Quality Assurance Analyst',\n",
       " 'Director of Sales and Marketing',\n",
       " 'Senior Account Executive',\n",
       " 'Director of Business Development',\n",
       " 'Junior Social Media Manager',\n",
       " 'Senior Human Resources Specialist',\n",
       " 'Senior Data Analyst',\n",
       " 'Director of Human Capital',\n",
       " 'Junior Advertising Coordinator',\n",
       " 'Junior UX Designer',\n",
       " 'Senior Marketing Director',\n",
       " 'Senior IT Consultant',\n",
       " 'Senior Financial Advisor',\n",
       " 'Junior Business Operations Analyst',\n",
       " 'Junior Social Media Specialist',\n",
       " 'Senior Product Development Manager',\n",
       " 'Junior Operations Manager',\n",
       " 'Senior Software Architect',\n",
       " 'Junior Research Scientist',\n",
       " 'Senior Financial Manager',\n",
       " 'Senior HR Specialist',\n",
       " 'Senior Data Engineer',\n",
       " 'Junior Operations Coordinator',\n",
       " 'Director of HR',\n",
       " 'Senior Operations Coordinator',\n",
       " 'Junior Financial Advisor',\n",
       " 'Director of Engineering',\n",
       " 'Software Engineer Manager',\n",
       " 'Back end Developer',\n",
       " 'Senior Project Engineer',\n",
       " 'Full Stack Engineer',\n",
       " 'Front end Developer',\n",
       " 'Front End Developer',\n",
       " 'Director of Data Science',\n",
       " 'Human Resources Coordinator',\n",
       " 'Junior Sales Associate',\n",
       " 'Human Resources Manager',\n",
       " 'Juniour HR Generalist',\n",
       " 'Juniour HR Coordinator',\n",
       " 'Digital Marketing Specialist',\n",
       " 'Receptionist',\n",
       " 'Marketing Director',\n",
       " 'Social Media Man',\n",
       " 'Delivery Driver']"
      ]
     },
     "execution_count": 52,
     "metadata": {},
     "output_type": "execute_result"
    }
   ],
   "source": [
    "import pandas as pd\n",
    "clean_data = \"Clean_Salary_Data.csv\"\n",
    "model_data = pd.read_csv(clean_data)\n",
    "job_titles = model_data[\"Job Title\"].unique().tolist()\n",
    "job_titles"
   ]
  },
  {
   "cell_type": "markdown",
   "metadata": {},
   "source": [
    "### Load Random Forests Model"
   ]
  },
  {
   "cell_type": "code",
   "execution_count": 72,
   "metadata": {},
   "outputs": [],
   "source": [
    "import joblib\n",
    "rf_model = joblib.load(\"random_forests_model.pkl\")"
   ]
  },
  {
   "cell_type": "markdown",
   "metadata": {},
   "source": [
    "### Input Guidelines\n",
    "#### Age: (21 - 62)\n",
    "#### Gender: (Male/ Female/ Other)\n",
    "#### Eduaction Level: (High School/ Bachelor's Degree/ Master's Degree/ PhD)\n",
    "#### Job Title : input job title must be in job_titles list above\n",
    "#### Years of Experience: (0 - 34)"
   ]
  },
  {
   "cell_type": "markdown",
   "metadata": {},
   "source": [
    "### Input Prompts"
   ]
  },
  {
   "cell_type": "code",
   "execution_count": 68,
   "metadata": {},
   "outputs": [
    {
     "name": "stdout",
     "output_type": "stream",
     "text": [
      "Enter Age (21 - 62): 22\n",
      "Enter Gender (Male/ Female/ Other): Other\n",
      "Enter Education Level: (High School/ Bachelor's Degree/ Master's Degree/ PhD)High School\n",
      "Enter Job Title: CEO\n",
      "Enter Years of Experience: 0\n"
     ]
    }
   ],
   "source": [
    "age = float(input(\"Enter Age (21 - 62): \"))\n",
    "gender = str(input(\"Enter Gender (Male/ Female/ Other): \"))\n",
    "education_lvl = str(input(\"Enter Education Level: (High School/ Bachelor's Degree/ Master's Degree/ PhD)\"))\n",
    "job_title = str(input(\"Enter Job Title: \"))\n",
    "years = float(input(\"Enter Years of Experience: \"))"
   ]
  },
  {
   "cell_type": "markdown",
   "metadata": {},
   "source": [
    "### Store input in a dataframe"
   ]
  },
  {
   "cell_type": "code",
   "execution_count": 69,
   "metadata": {},
   "outputs": [
    {
     "data": {
      "text/html": [
       "<div>\n",
       "<style scoped>\n",
       "    .dataframe tbody tr th:only-of-type {\n",
       "        vertical-align: middle;\n",
       "    }\n",
       "\n",
       "    .dataframe tbody tr th {\n",
       "        vertical-align: top;\n",
       "    }\n",
       "\n",
       "    .dataframe thead th {\n",
       "        text-align: right;\n",
       "    }\n",
       "</style>\n",
       "<table border=\"1\" class=\"dataframe\">\n",
       "  <thead>\n",
       "    <tr style=\"text-align: right;\">\n",
       "      <th></th>\n",
       "      <th>Age</th>\n",
       "      <th>Gender</th>\n",
       "      <th>Education Level</th>\n",
       "      <th>Job Title</th>\n",
       "      <th>Years of Experience</th>\n",
       "    </tr>\n",
       "  </thead>\n",
       "  <tbody>\n",
       "    <tr>\n",
       "      <th>0</th>\n",
       "      <td>22.0</td>\n",
       "      <td>Other</td>\n",
       "      <td>High School</td>\n",
       "      <td>CEO</td>\n",
       "      <td>0.0</td>\n",
       "    </tr>\n",
       "  </tbody>\n",
       "</table>\n",
       "</div>"
      ],
      "text/plain": [
       "    Age Gender Education Level Job Title  Years of Experience\n",
       "0  22.0  Other     High School       CEO                  0.0"
      ]
     },
     "execution_count": 69,
     "metadata": {},
     "output_type": "execute_result"
    }
   ],
   "source": [
    "input_dict = {\n",
    "    \"Age\": [age],\n",
    "    \"Gender\": [gender],\n",
    "    \"Education Level\": [education_lvl],\n",
    "    \"Job Title\": [job_title],\n",
    "    \"Years of Experience\": [years]\n",
    "}\n",
    "\n",
    "input_df = pd.DataFrame(input_dict)\n",
    "input_df"
   ]
  },
  {
   "cell_type": "markdown",
   "metadata": {},
   "source": [
    "### Preprocessing"
   ]
  },
  {
   "cell_type": "code",
   "execution_count": 70,
   "metadata": {},
   "outputs": [],
   "source": [
    "from sklearn.preprocessing import LabelEncoder, OneHotEncoder\n",
    "label_encoder = LabelEncoder()\n",
    "input_df[\"Education Level\"] = label_encoder.fit_transform(input_df[\"Education Level\"])\n",
    "\n",
    "onehot_encoder = OneHotEncoder(drop=\"first\", sparse_output=False)\n",
    "onehot_encoded = onehot_encoder.fit_transform(input_df[[\"Gender\", \"Job Title\"]])\n",
    "# Create a DataFrame from the one-hot encoded array\n",
    "onehot_df = pd.DataFrame(onehot_encoded, columns=onehot_encoder.get_feature_names_out([\"Gender\", \"Job Title\"]))\n",
    "# Concatenate the one-hot encoded DataFrame with the rest of the features\n",
    "input_df = pd.concat([input_df, onehot_df], axis=1)\n",
    "# Drop the original \"Gender\" and \"Job Title\" columns\n",
    "input_df = input_df.drop([\"Gender\", \"Job Title\"], axis=1)"
   ]
  },
  {
   "cell_type": "code",
   "execution_count": 71,
   "metadata": {},
   "outputs": [
    {
     "data": {
      "text/html": [
       "<div>\n",
       "<style scoped>\n",
       "    .dataframe tbody tr th:only-of-type {\n",
       "        vertical-align: middle;\n",
       "    }\n",
       "\n",
       "    .dataframe tbody tr th {\n",
       "        vertical-align: top;\n",
       "    }\n",
       "\n",
       "    .dataframe thead th {\n",
       "        text-align: right;\n",
       "    }\n",
       "</style>\n",
       "<table border=\"1\" class=\"dataframe\">\n",
       "  <thead>\n",
       "    <tr style=\"text-align: right;\">\n",
       "      <th></th>\n",
       "      <th>Age</th>\n",
       "      <th>Education Level</th>\n",
       "      <th>Years of Experience</th>\n",
       "    </tr>\n",
       "  </thead>\n",
       "  <tbody>\n",
       "    <tr>\n",
       "      <th>0</th>\n",
       "      <td>22.0</td>\n",
       "      <td>0</td>\n",
       "      <td>0.0</td>\n",
       "    </tr>\n",
       "  </tbody>\n",
       "</table>\n",
       "</div>"
      ],
      "text/plain": [
       "    Age  Education Level  Years of Experience\n",
       "0  22.0                0                  0.0"
      ]
     },
     "execution_count": 71,
     "metadata": {},
     "output_type": "execute_result"
    }
   ],
   "source": [
    "input_df"
   ]
  },
  {
   "cell_type": "code",
   "execution_count": 74,
   "metadata": {},
   "outputs": [
    {
     "ename": "ValueError",
     "evalue": "The feature names should match those that were passed during fit.\nFeature names seen at fit time, yet now missing:\n- Gender_Male\n- Gender_Other\n- Job Title_Accountant\n- Job Title_Administrative Assistant\n- Job Title_Back end Developer\n- ...\n",
     "output_type": "error",
     "traceback": [
      "\u001b[1;31m---------------------------------------------------------------------------\u001b[0m",
      "\u001b[1;31mValueError\u001b[0m                                Traceback (most recent call last)",
      "Cell \u001b[1;32mIn[74], line 1\u001b[0m\n\u001b[1;32m----> 1\u001b[0m \u001b[43mrf_model\u001b[49m\u001b[38;5;241;43m.\u001b[39;49m\u001b[43mpredict\u001b[49m\u001b[43m(\u001b[49m\u001b[43minput_df\u001b[49m\u001b[38;5;241;43m.\u001b[39;49m\u001b[43mhead\u001b[49m\u001b[43m(\u001b[49m\u001b[43m)\u001b[49m\u001b[43m)\u001b[49m\n",
      "File \u001b[1;32m~\\anaconda3\\lib\\site-packages\\sklearn\\ensemble\\_forest.py:981\u001b[0m, in \u001b[0;36mForestRegressor.predict\u001b[1;34m(self, X)\u001b[0m\n\u001b[0;32m    979\u001b[0m check_is_fitted(\u001b[38;5;28mself\u001b[39m)\n\u001b[0;32m    980\u001b[0m \u001b[38;5;66;03m# Check data\u001b[39;00m\n\u001b[1;32m--> 981\u001b[0m X \u001b[38;5;241m=\u001b[39m \u001b[38;5;28;43mself\u001b[39;49m\u001b[38;5;241;43m.\u001b[39;49m\u001b[43m_validate_X_predict\u001b[49m\u001b[43m(\u001b[49m\u001b[43mX\u001b[49m\u001b[43m)\u001b[49m\n\u001b[0;32m    983\u001b[0m \u001b[38;5;66;03m# Assign chunk of trees to jobs\u001b[39;00m\n\u001b[0;32m    984\u001b[0m n_jobs, _, _ \u001b[38;5;241m=\u001b[39m _partition_estimators(\u001b[38;5;28mself\u001b[39m\u001b[38;5;241m.\u001b[39mn_estimators, \u001b[38;5;28mself\u001b[39m\u001b[38;5;241m.\u001b[39mn_jobs)\n",
      "File \u001b[1;32m~\\anaconda3\\lib\\site-packages\\sklearn\\ensemble\\_forest.py:602\u001b[0m, in \u001b[0;36mBaseForest._validate_X_predict\u001b[1;34m(self, X)\u001b[0m\n\u001b[0;32m    599\u001b[0m \u001b[38;5;124;03m\"\"\"\u001b[39;00m\n\u001b[0;32m    600\u001b[0m \u001b[38;5;124;03mValidate X whenever one tries to predict, apply, predict_proba.\"\"\"\u001b[39;00m\n\u001b[0;32m    601\u001b[0m check_is_fitted(\u001b[38;5;28mself\u001b[39m)\n\u001b[1;32m--> 602\u001b[0m X \u001b[38;5;241m=\u001b[39m \u001b[38;5;28;43mself\u001b[39;49m\u001b[38;5;241;43m.\u001b[39;49m\u001b[43m_validate_data\u001b[49m\u001b[43m(\u001b[49m\u001b[43mX\u001b[49m\u001b[43m,\u001b[49m\u001b[43m \u001b[49m\u001b[43mdtype\u001b[49m\u001b[38;5;241;43m=\u001b[39;49m\u001b[43mDTYPE\u001b[49m\u001b[43m,\u001b[49m\u001b[43m \u001b[49m\u001b[43maccept_sparse\u001b[49m\u001b[38;5;241;43m=\u001b[39;49m\u001b[38;5;124;43m\"\u001b[39;49m\u001b[38;5;124;43mcsr\u001b[39;49m\u001b[38;5;124;43m\"\u001b[39;49m\u001b[43m,\u001b[49m\u001b[43m \u001b[49m\u001b[43mreset\u001b[49m\u001b[38;5;241;43m=\u001b[39;49m\u001b[38;5;28;43;01mFalse\u001b[39;49;00m\u001b[43m)\u001b[49m\n\u001b[0;32m    603\u001b[0m \u001b[38;5;28;01mif\u001b[39;00m issparse(X) \u001b[38;5;129;01mand\u001b[39;00m (X\u001b[38;5;241m.\u001b[39mindices\u001b[38;5;241m.\u001b[39mdtype \u001b[38;5;241m!=\u001b[39m np\u001b[38;5;241m.\u001b[39mintc \u001b[38;5;129;01mor\u001b[39;00m X\u001b[38;5;241m.\u001b[39mindptr\u001b[38;5;241m.\u001b[39mdtype \u001b[38;5;241m!=\u001b[39m np\u001b[38;5;241m.\u001b[39mintc):\n\u001b[0;32m    604\u001b[0m     \u001b[38;5;28;01mraise\u001b[39;00m \u001b[38;5;167;01mValueError\u001b[39;00m(\u001b[38;5;124m\"\u001b[39m\u001b[38;5;124mNo support for np.int64 index based sparse matrices\u001b[39m\u001b[38;5;124m\"\u001b[39m)\n",
      "File \u001b[1;32m~\\anaconda3\\lib\\site-packages\\sklearn\\base.py:529\u001b[0m, in \u001b[0;36mBaseEstimator._validate_data\u001b[1;34m(self, X, y, reset, validate_separately, **check_params)\u001b[0m\n\u001b[0;32m    464\u001b[0m \u001b[38;5;28;01mdef\u001b[39;00m \u001b[38;5;21m_validate_data\u001b[39m(\n\u001b[0;32m    465\u001b[0m     \u001b[38;5;28mself\u001b[39m,\n\u001b[0;32m    466\u001b[0m     X\u001b[38;5;241m=\u001b[39m\u001b[38;5;124m\"\u001b[39m\u001b[38;5;124mno_validation\u001b[39m\u001b[38;5;124m\"\u001b[39m,\n\u001b[1;32m   (...)\u001b[0m\n\u001b[0;32m    470\u001b[0m     \u001b[38;5;241m*\u001b[39m\u001b[38;5;241m*\u001b[39mcheck_params,\n\u001b[0;32m    471\u001b[0m ):\n\u001b[0;32m    472\u001b[0m     \u001b[38;5;124;03m\"\"\"Validate input data and set or check the `n_features_in_` attribute.\u001b[39;00m\n\u001b[0;32m    473\u001b[0m \n\u001b[0;32m    474\u001b[0m \u001b[38;5;124;03m    Parameters\u001b[39;00m\n\u001b[1;32m   (...)\u001b[0m\n\u001b[0;32m    527\u001b[0m \u001b[38;5;124;03m        validated.\u001b[39;00m\n\u001b[0;32m    528\u001b[0m \u001b[38;5;124;03m    \"\"\"\u001b[39;00m\n\u001b[1;32m--> 529\u001b[0m     \u001b[38;5;28;43mself\u001b[39;49m\u001b[38;5;241;43m.\u001b[39;49m\u001b[43m_check_feature_names\u001b[49m\u001b[43m(\u001b[49m\u001b[43mX\u001b[49m\u001b[43m,\u001b[49m\u001b[43m \u001b[49m\u001b[43mreset\u001b[49m\u001b[38;5;241;43m=\u001b[39;49m\u001b[43mreset\u001b[49m\u001b[43m)\u001b[49m\n\u001b[0;32m    531\u001b[0m     \u001b[38;5;28;01mif\u001b[39;00m y \u001b[38;5;129;01mis\u001b[39;00m \u001b[38;5;28;01mNone\u001b[39;00m \u001b[38;5;129;01mand\u001b[39;00m \u001b[38;5;28mself\u001b[39m\u001b[38;5;241m.\u001b[39m_get_tags()[\u001b[38;5;124m\"\u001b[39m\u001b[38;5;124mrequires_y\u001b[39m\u001b[38;5;124m\"\u001b[39m]:\n\u001b[0;32m    532\u001b[0m         \u001b[38;5;28;01mraise\u001b[39;00m \u001b[38;5;167;01mValueError\u001b[39;00m(\n\u001b[0;32m    533\u001b[0m             \u001b[38;5;124mf\u001b[39m\u001b[38;5;124m\"\u001b[39m\u001b[38;5;124mThis \u001b[39m\u001b[38;5;132;01m{\u001b[39;00m\u001b[38;5;28mself\u001b[39m\u001b[38;5;241m.\u001b[39m\u001b[38;5;18m__class__\u001b[39m\u001b[38;5;241m.\u001b[39m\u001b[38;5;18m__name__\u001b[39m\u001b[38;5;132;01m}\u001b[39;00m\u001b[38;5;124m estimator \u001b[39m\u001b[38;5;124m\"\u001b[39m\n\u001b[0;32m    534\u001b[0m             \u001b[38;5;124m\"\u001b[39m\u001b[38;5;124mrequires y to be passed, but the target y is None.\u001b[39m\u001b[38;5;124m\"\u001b[39m\n\u001b[0;32m    535\u001b[0m         )\n",
      "File \u001b[1;32m~\\anaconda3\\lib\\site-packages\\sklearn\\base.py:462\u001b[0m, in \u001b[0;36mBaseEstimator._check_feature_names\u001b[1;34m(self, X, reset)\u001b[0m\n\u001b[0;32m    457\u001b[0m \u001b[38;5;28;01mif\u001b[39;00m \u001b[38;5;129;01mnot\u001b[39;00m missing_names \u001b[38;5;129;01mand\u001b[39;00m \u001b[38;5;129;01mnot\u001b[39;00m unexpected_names:\n\u001b[0;32m    458\u001b[0m     message \u001b[38;5;241m+\u001b[39m\u001b[38;5;241m=\u001b[39m (\n\u001b[0;32m    459\u001b[0m         \u001b[38;5;124m\"\u001b[39m\u001b[38;5;124mFeature names must be in the same order as they were in fit.\u001b[39m\u001b[38;5;130;01m\\n\u001b[39;00m\u001b[38;5;124m\"\u001b[39m\n\u001b[0;32m    460\u001b[0m     )\n\u001b[1;32m--> 462\u001b[0m \u001b[38;5;28;01mraise\u001b[39;00m \u001b[38;5;167;01mValueError\u001b[39;00m(message)\n",
      "\u001b[1;31mValueError\u001b[0m: The feature names should match those that were passed during fit.\nFeature names seen at fit time, yet now missing:\n- Gender_Male\n- Gender_Other\n- Job Title_Accountant\n- Job Title_Administrative Assistant\n- Job Title_Back end Developer\n- ...\n"
     ]
    }
   ],
   "source": [
    "rf_model.predict(input_df.head())"
   ]
  }
 ],
 "metadata": {
  "kernelspec": {
   "display_name": "Python 3 (ipykernel)",
   "language": "python",
   "name": "python3"
  },
  "language_info": {
   "codemirror_mode": {
    "name": "ipython",
    "version": 3
   },
   "file_extension": ".py",
   "mimetype": "text/x-python",
   "name": "python",
   "nbconvert_exporter": "python",
   "pygments_lexer": "ipython3",
   "version": "3.10.9"
  },
  "varInspector": {
   "cols": {
    "lenName": 16,
    "lenType": 16,
    "lenVar": 40
   },
   "kernels_config": {
    "python": {
     "delete_cmd_postfix": "",
     "delete_cmd_prefix": "del ",
     "library": "var_list.py",
     "varRefreshCmd": "print(var_dic_list())"
    },
    "r": {
     "delete_cmd_postfix": ") ",
     "delete_cmd_prefix": "rm(",
     "library": "var_list.r",
     "varRefreshCmd": "cat(var_dic_list()) "
    }
   },
   "types_to_exclude": [
    "module",
    "function",
    "builtin_function_or_method",
    "instance",
    "_Feature"
   ],
   "window_display": false
  }
 },
 "nbformat": 4,
 "nbformat_minor": 2
}
